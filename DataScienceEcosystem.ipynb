{
 "cells": [
  {
   "cell_type": "markdown",
   "id": "3c95e687-692e-43ed-9f0e-bc8e87ec86e7",
   "metadata": {},
   "source": [
    "# Data Science Tools and Ecosystem"
   ]
  },
  {
   "cell_type": "markdown",
   "id": "3c83eac1-bfb8-4341-9dec-671a1eb5da14",
   "metadata": {},
   "source": [
    "## In this notebook, Data Science Tools and Ecosystem are summarized."
   ]
  },
  {
   "cell_type": "markdown",
   "id": "50f3de4a-9263-46f6-894f-8a97e8e5aa22",
   "metadata": {},
   "source": [
    "<b>Objectives:</b>"
   ]
  },
  {
   "cell_type": "markdown",
   "id": "1b43e412-089a-43fe-9f9d-9861e3acf3e6",
   "metadata": {},
   "source": [
    "List popular languages for Data Science\n",
    "<ul>\r\n",
    "<liPythonh</li>\r\n",
    "<lRgs</li>\r\n",
    "<l++ese</li>\r\n",
    "</ul>"
   ]
  },
  {
   "cell_type": "markdown",
   "id": "9c0c9404-3aad-419c-8f45-47851dca8eeb",
   "metadata": {},
   "source": [
    "Some of the popular languages that Data Scientists use are:\n",
    "<ol>\n",
    "<li>R</li>\n",
    "<li>Python</li>\n",
    "<li>C++</li>\n",
    "</ol>"
   ]
  },
  {
   "cell_type": "markdown",
   "id": "5ed1f139-aa71-4a76-86a7-84c85ca6910e",
   "metadata": {},
   "source": [
    "Some of the commonly used libraries used by Data Scientists include:\n",
    "<ol>\n",
    "<li>Pandas</li>\n",
    "<li>NumPy</li>\n",
    "<li>Matplotlib</li>\n",
    "</ol>"
   ]
  },
  {
   "cell_type": "markdown",
   "id": "f45bc415-9339-4d00-8c42-a07153ce0dab",
   "metadata": {},
   "source": [
    "| Data Science Tools |\r\n",
    "| --- |\r",
    "Hadoopd\n",
    "|Spark| \n",
    "|Neo4J| || |"
   ]
  },
  {
   "cell_type": "markdown",
   "id": "b27e55c4-83ca-4187-9356-e1f1ccc63af5",
   "metadata": {},
   "source": [
    "### Below are a few examples of evaluating arithmetic expressions in Python"
   ]
  },
  {
   "cell_type": "code",
   "execution_count": null,
   "id": "8401af8c-641d-4ca7-bdf2-d1c6e662287c",
   "metadata": {},
   "outputs": [],
   "source": [
    "(3*4)+5"
   ]
  },
  {
   "cell_type": "code",
   "execution_count": 43,
   "id": "13777ed7-adde-45ee-92a1-44b9f265989b",
   "metadata": {},
   "outputs": [
    {
     "data": {
      "text/plain": [
       "3.3333333333333335"
      ]
     },
     "execution_count": 43,
     "metadata": {},
     "output_type": "execute_result"
    }
   ],
   "source": [
    "### This will convert 200 minutes to hours by diving by 60\n",
    "200/60"
   ]
  },
  {
   "cell_type": "markdown",
   "id": "cfb81945-af79-4505-a921-1ad8edcb916a",
   "metadata": {},
   "source": [
    "## Author\n",
    "Roy Balderas J."
   ]
  }
 ],
 "metadata": {
  "kernelspec": {
   "display_name": "Python 3 (ipykernel)",
   "language": "python",
   "name": "python3"
  },
  "language_info": {
   "codemirror_mode": {
    "name": "ipython",
    "version": 3
   },
   "file_extension": ".py",
   "mimetype": "text/x-python",
   "name": "python",
   "nbconvert_exporter": "python",
   "pygments_lexer": "ipython3",
   "version": "3.11.5"
  }
 },
 "nbformat": 4,
 "nbformat_minor": 5
}
